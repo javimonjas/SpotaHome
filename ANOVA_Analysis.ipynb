{
 "cells": [
  {
   "cell_type": "code",
   "execution_count": 6,
   "metadata": {},
   "outputs": [],
   "source": [
    "#import libraries\n",
    "\n",
    "import sqlite3\n",
    "import pandas as pd\n",
    "import numpy as np"
   ]
  },
  {
   "cell_type": "code",
   "execution_count": 13,
   "metadata": {},
   "outputs": [],
   "source": [
    "con = sqlite3.connect(\"C:\\Personal\\Spotahome\\Data scientist exercise.sqlite\")\n",
    "df=pd.read_sql_query('SELECT * FROM access_log',con)\n",
    "con.close()\n"
   ]
  }
 ],
 "metadata": {
  "interpreter": {
   "hash": "61836b47e6dc47a16fb7b002ab417e7121048ad793eee2d9a945fe63fa237e69"
  },
  "kernelspec": {
   "display_name": "Python 3.9.4 64-bit",
   "language": "python",
   "name": "python3"
  },
  "language_info": {
   "codemirror_mode": {
    "name": "ipython",
    "version": 3
   },
   "file_extension": ".py",
   "mimetype": "text/x-python",
   "name": "python",
   "nbconvert_exporter": "python",
   "pygments_lexer": "ipython3",
   "version": "3.9.4"
  },
  "orig_nbformat": 4
 },
 "nbformat": 4,
 "nbformat_minor": 2
}
